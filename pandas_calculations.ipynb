{
 "cells": [
  {
   "cell_type": "code",
   "execution_count": 3,
   "id": "0a68940f",
   "metadata": {},
   "outputs": [],
   "source": [
    "import pandas as pd, numpy as np"
   ]
  },
  {
   "cell_type": "code",
   "execution_count": 4,
   "id": "8c2e7ee8",
   "metadata": {},
   "outputs": [
    {
     "name": "stdout",
     "output_type": "stream",
     "text": [
      "       ResponseId     Q120                      MainBranch  \\\n",
      "0               1  I agree                   None of these   \n",
      "1               2  I agree  I am a developer by profession   \n",
      "2               3  I agree  I am a developer by profession   \n",
      "3               4  I agree  I am a developer by profession   \n",
      "4               5  I agree  I am a developer by profession   \n",
      "...           ...      ...                             ...   \n",
      "89179       89180  I agree  I am a developer by profession   \n",
      "89180       89181  I agree  I am a developer by profession   \n",
      "89181       89182  I agree     I code primarily as a hobby   \n",
      "89182       89183  I agree  I am a developer by profession   \n",
      "89183       89184  I agree  I am a developer by profession   \n",
      "\n",
      "                      Age                                         Employment  \\\n",
      "0         18-24 years old                                                NaN   \n",
      "1         25-34 years old                                Employed, full-time   \n",
      "2         45-54 years old                                Employed, full-time   \n",
      "3         25-34 years old                                Employed, full-time   \n",
      "4         25-34 years old  Employed, full-time;Independent contractor, fr...   \n",
      "...                   ...                                                ...   \n",
      "89179     25-34 years old  Employed, full-time;Independent contractor, fr...   \n",
      "89180     18-24 years old             Student, full-time;Employed, part-time   \n",
      "89181   Prefer not to say                                I prefer not to say   \n",
      "89182  Under 18 years old             Employed, part-time;Student, part-time   \n",
      "89183     35-44 years old                                Employed, full-time   \n",
      "\n",
      "                                 RemoteWork  \\\n",
      "0                                       NaN   \n",
      "1                                    Remote   \n",
      "2      Hybrid (some remote, some in-person)   \n",
      "3      Hybrid (some remote, some in-person)   \n",
      "4                                    Remote   \n",
      "...                                     ...   \n",
      "89179                                Remote   \n",
      "89180  Hybrid (some remote, some in-person)   \n",
      "89181                                   NaN   \n",
      "89182  Hybrid (some remote, some in-person)   \n",
      "89183  Hybrid (some remote, some in-person)   \n",
      "\n",
      "                                        CodingActivities  \\\n",
      "0                                                    NaN   \n",
      "1      Hobby;Contribute to open-source projects;Boots...   \n",
      "2      Hobby;Professional development or self-paced l...   \n",
      "3                                                  Hobby   \n",
      "4      Hobby;Contribute to open-source projects;Profe...   \n",
      "...                                                  ...   \n",
      "89179  Hobby;Bootstrapping a business;Freelance/contr...   \n",
      "89180                            School or academic work   \n",
      "89181                                                NaN   \n",
      "89182                      Hobby;School or academic work   \n",
      "89183  Hobby;Professional development or self-paced l...   \n",
      "\n",
      "                                                 EdLevel  \\\n",
      "0                                                    NaN   \n",
      "1           Bachelor’s degree (B.A., B.S., B.Eng., etc.)   \n",
      "2           Bachelor’s degree (B.A., B.S., B.Eng., etc.)   \n",
      "3           Bachelor’s degree (B.A., B.S., B.Eng., etc.)   \n",
      "4           Bachelor’s degree (B.A., B.S., B.Eng., etc.)   \n",
      "...                                                  ...   \n",
      "89179                Associate degree (A.A., A.S., etc.)   \n",
      "89180       Bachelor’s degree (B.A., B.S., B.Eng., etc.)   \n",
      "89181                                     Something else   \n",
      "89182  Secondary school (e.g. American high school, G...   \n",
      "89183       Bachelor’s degree (B.A., B.S., B.Eng., etc.)   \n",
      "\n",
      "                                               LearnCode  \\\n",
      "0                                                    NaN   \n",
      "1      Books / Physical media;Colleague;Friend or fam...   \n",
      "2      Books / Physical media;Colleague;On the job tr...   \n",
      "3      Colleague;Friend or family member;Other online...   \n",
      "4      Books / Physical media;Online Courses or Certi...   \n",
      "...                                                  ...   \n",
      "89179  Online Courses or Certification;Other online r...   \n",
      "89180  Colleague;Online Courses or Certification;Othe...   \n",
      "89181  Books / Physical media;Hackathons (virtual or ...   \n",
      "89182  Online Courses or Certification;Other online r...   \n",
      "89183  Colleague;Online Courses or Certification;Othe...   \n",
      "\n",
      "                                         LearnCodeOnline  ...  \\\n",
      "0                                                    NaN  ...   \n",
      "1      Formal documentation provided by the owner of ...  ...   \n",
      "2      Formal documentation provided by the owner of ...  ...   \n",
      "3      Formal documentation provided by the owner of ...  ...   \n",
      "4      Formal documentation provided by the owner of ...  ...   \n",
      "...                                                  ...  ...   \n",
      "89179  Formal documentation provided by the owner of ...  ...   \n",
      "89180  Formal documentation provided by the owner of ...  ...   \n",
      "89181                                                NaN  ...   \n",
      "89182  Formal documentation provided by the owner of ...  ...   \n",
      "89183  Formal documentation provided by the owner of ...  ...   \n",
      "\n",
      "             Frequency_1        Frequency_2       Frequency_3  \\\n",
      "0                    NaN                NaN               NaN   \n",
      "1       1-2 times a week   10+ times a week             Never   \n",
      "2      6-10 times a week  6-10 times a week  3-5 times a week   \n",
      "3       1-2 times a week   10+ times a week  1-2 times a week   \n",
      "4       1-2 times a week   1-2 times a week  3-5 times a week   \n",
      "...                  ...                ...               ...   \n",
      "89179                NaN                NaN               NaN   \n",
      "89180                NaN                NaN               NaN   \n",
      "89181                NaN                NaN               NaN   \n",
      "89182                NaN                NaN               NaN   \n",
      "89183              Never   1-2 times a week  1-2 times a week   \n",
      "\n",
      "              TimeSearching        TimeAnswering  \\\n",
      "0                       NaN                  NaN   \n",
      "1       15-30 minutes a day  15-30 minutes a day   \n",
      "2       30-60 minutes a day  30-60 minutes a day   \n",
      "3       15-30 minutes a day  30-60 minutes a day   \n",
      "4      60-120 minutes a day  30-60 minutes a day   \n",
      "...                     ...                  ...   \n",
      "89179                   NaN                  NaN   \n",
      "89180                   NaN                  NaN   \n",
      "89181                   NaN                  NaN   \n",
      "89182                   NaN                  NaN   \n",
      "89183  60-120 minutes a day  30-60 minutes a day   \n",
      "\n",
      "                                        ProfessionalTech  \\\n",
      "0                                                    NaN   \n",
      "1      DevOps function;Microservices;Automated testin...   \n",
      "2      DevOps function;Microservices;Automated testin...   \n",
      "3      Automated testing;Continuous integration (CI) ...   \n",
      "4      Microservices;Automated testing;Observability ...   \n",
      "...                                                  ...   \n",
      "89179                                                NaN   \n",
      "89180                                                NaN   \n",
      "89181                                                NaN   \n",
      "89182                                                NaN   \n",
      "89183  DevOps function;Developer portal or other cent...   \n",
      "\n",
      "                                                Industry  \\\n",
      "0                                                    NaN   \n",
      "1      Information Services, IT, Software Development...   \n",
      "2      Information Services, IT, Software Development...   \n",
      "3                                                    NaN   \n",
      "4                                                  Other   \n",
      "...                                                  ...   \n",
      "89179                                                NaN   \n",
      "89180                                                NaN   \n",
      "89181                                                NaN   \n",
      "89182                                                NaN   \n",
      "89183  Information Services, IT, Software Development...   \n",
      "\n",
      "                SurveyLength                  SurveyEase ConvertedCompYearly  \n",
      "0                        NaN                         NaN                 NaN  \n",
      "1      Appropriate in length                        Easy            285000.0  \n",
      "2      Appropriate in length                        Easy            250000.0  \n",
      "3      Appropriate in length                        Easy            156000.0  \n",
      "4      Appropriate in length  Neither easy nor difficult             23456.0  \n",
      "...                      ...                         ...                 ...  \n",
      "89179               Too long  Neither easy nor difficult                 NaN  \n",
      "89180               Too long                        Easy                 NaN  \n",
      "89181               Too long  Neither easy nor difficult                 NaN  \n",
      "89182  Appropriate in length  Neither easy nor difficult                 NaN  \n",
      "89183  Appropriate in length                        Easy                 NaN  \n",
      "\n",
      "[89184 rows x 84 columns]\n"
     ]
    }
   ],
   "source": [
    "survey_df=pd.read_csv('D:\\Courses\\курсы\\GoIT_DA\\Блок 4\\HW4\\survey_results_public.csv')\n",
    "print(survey_df)"
   ]
  },
  {
   "cell_type": "markdown",
   "id": "24d11c05",
   "metadata": {},
   "source": [
    "1. Розрахунок кількості респондентів, що пройшли опитування"
   ]
  },
  {
   "cell_type": "code",
   "execution_count": 6,
   "id": "3b6f3afe",
   "metadata": {},
   "outputs": [
    {
     "name": "stdout",
     "output_type": "stream",
     "text": [
      "89184\n"
     ]
    }
   ],
   "source": [
    "respond_count=survey_df['ResponseId'].nunique()\n",
    "print(respond_count)"
   ]
  },
  {
   "cell_type": "markdown",
   "id": "980fb286",
   "metadata": {},
   "source": [
    "2. Кількість респондентів, що відповіли на всі запитання"
   ]
  },
  {
   "cell_type": "code",
   "execution_count": 16,
   "id": "77a4ed39",
   "metadata": {},
   "outputs": [
    {
     "name": "stdout",
     "output_type": "stream",
     "text": [
      "0\n"
     ]
    }
   ],
   "source": [
    "nan_count_per_row = survey_df.isna().sum(axis=1)\n",
    "\n",
    "c=0;\n",
    "for i in nan_count_per_row:\n",
    "    if nan_count_per_row[i]==0:\n",
    "        c=c+1\n",
    "print(c)"
   ]
  },
  {
   "cell_type": "markdown",
   "id": "50951c6e",
   "metadata": {},
   "source": [
    "3. Значення мір центральної тенденції для \"WorkExp\""
   ]
  },
  {
   "cell_type": "code",
   "execution_count": 30,
   "id": "1ca259b3",
   "metadata": {},
   "outputs": [
    {
     "name": "stdout",
     "output_type": "stream",
     "text": [
      "Mean Work Experience is 11.405126322311204\n",
      "Median Work Experience is 9.0\n",
      "Mode Work Experience is 0    5.0\n",
      "Name: WorkExp, dtype: float64\n",
      "Minimum Work Experience is 0.0\n",
      "Maximum Work Experience is 50.0\n",
      "Standart Deviation is 9.051989418487764\n",
      "Dispersia is 81.93851243241444\n"
     ]
    }
   ],
   "source": [
    "mean_WE=survey_df['WorkExp'].mean()\n",
    "median_WE=survey_df['WorkExp'].median()\n",
    "mode_WE=survey_df['WorkExp'].mode()\n",
    "min_WE=survey_df['WorkExp'].min()\n",
    "max_WE=survey_df['WorkExp'].max()\n",
    "std_WE=survey_df['WorkExp'].std()\n",
    "var_WE=survey_df['WorkExp'].var()\n",
    "print(f'Mean Work Experience is {mean_WE}\\nMedian Work Experience is {median_WE}\\nMode Work Experience is {mode_WE}\\nMinimum Work Experience is {min_WE}\\nMaximum Work Experience is {max_WE}\\nStandart Deviation is {std_WE}\\nDispersia is {var_WE}' )"
   ]
  },
  {
   "cell_type": "markdown",
   "id": "d6b43dfe",
   "metadata": {},
   "source": [
    "4. Кількість респондентів, що працюють віддалено"
   ]
  },
  {
   "cell_type": "code",
   "execution_count": 31,
   "id": "b38c7594",
   "metadata": {},
   "outputs": [
    {
     "name": "stdout",
     "output_type": "stream",
     "text": [
      "30566\n"
     ]
    }
   ],
   "source": [
    "condition=survey_df['RemoteWork']=='Remote'\n",
    "count_condition = condition.sum()\n",
    "print(count_condition)"
   ]
  },
  {
   "cell_type": "markdown",
   "id": "03e24c39",
   "metadata": {},
   "source": [
    "6. Відсоток респондентів, що працюють на Python"
   ]
  },
  {
   "cell_type": "code",
   "execution_count": 36,
   "id": "2896033a",
   "metadata": {},
   "outputs": [
    {
     "name": "stdout",
     "output_type": "stream",
     "text": [
      "48.392088266953714 %\n"
     ]
    }
   ],
   "source": [
    "cond1=survey_df['LanguageHaveWorkedWith'].str.contains('Python', case=False)\n",
    "count_cond1=cond1.sum()\n",
    "print(count_cond1*100/respond_count,'%')"
   ]
  },
  {
   "cell_type": "markdown",
   "id": "c9db8a3b",
   "metadata": {},
   "source": [
    "6. Кількість респондентів, що навчалось програмуванню за допомогою онлайн курсів"
   ]
  },
  {
   "cell_type": "code",
   "execution_count": 39,
   "id": "51c25510",
   "metadata": {},
   "outputs": [
    {
     "name": "stdout",
     "output_type": "stream",
     "text": [
      "43201\n"
     ]
    }
   ],
   "source": [
    "cond2=survey_df['LearnCode'].str.contains('Online Courses', case=False)\n",
    "count_cond2=cond2.sum()\n",
    "print(count_cond2)"
   ]
  },
  {
   "cell_type": "markdown",
   "id": "2bcf32b2",
   "metadata": {},
   "source": [
    "7. Серед респондентів що програмують на Python в групуванні по країнам, яка середня та медіанна сума компенсації (ConvertedCompYearly) в кожній країні?"
   ]
  },
  {
   "cell_type": "code",
   "execution_count": 52,
   "id": "c26678b8",
   "metadata": {},
   "outputs": [
    {
     "name": "stdout",
     "output_type": "stream",
     "text": [
      "                                              mean   median\n",
      "Country                                                    \n",
      "Afghanistan                             665.000000     48.0\n",
      "Albania                               28008.600000  11844.0\n",
      "Algeria                                8336.333333   6586.0\n",
      "Andorra                               32127.000000  32127.0\n",
      "Angola                                  662.000000    662.0\n",
      "...                                            ...      ...\n",
      "Venezuela, Bolivarian Republic of...  24973.529412  12000.0\n",
      "Viet Nam                              20191.870370  13401.0\n",
      "Yemen                                  8373.000000   9000.0\n",
      "Zambia                                13051.000000   9687.0\n",
      "Zimbabwe                               5600.000000   6000.0\n",
      "\n",
      "[173 rows x 2 columns]\n"
     ]
    }
   ],
   "source": [
    "python_df=survey_df[survey_df['LanguageHaveWorkedWith'].str.contains('Python', case=False, na=False, regex=True)]\n",
    "result=python_df.groupby('Country')['ConvertedCompYearly'].agg(['mean', 'median'])\n",
    "print(result)"
   ]
  },
  {
   "cell_type": "markdown",
   "id": "0560d81c",
   "metadata": {},
   "source": [
    "8. Які рівні освіти мають 5 респондентів з найбільшою компенсацією?"
   ]
  },
  {
   "cell_type": "code",
   "execution_count": 56,
   "id": "290c9c25",
   "metadata": {},
   "outputs": [
    {
     "name": "stdout",
     "output_type": "stream",
     "text": [
      "       ConvertedCompYearly                                            EdLevel\n",
      "53268           74351432.0     Professional degree (JD, MD, Ph.D, Ed.D, etc.)\n",
      "77848           73607918.0     Professional degree (JD, MD, Ph.D, Ed.D, etc.)\n",
      "80586           11000000.0       Bachelor’s degree (B.A., B.S., B.Eng., etc.)\n",
      "770              9000000.0    Master’s degree (M.A., M.S., M.Eng., MBA, etc.)\n",
      "66757            6377931.0  Some college/university study without earning ...\n"
     ]
    }
   ],
   "source": [
    "sorted_python_df=python_df.sort_values(by='ConvertedCompYearly', ascending=False)\n",
    "subset_df = sorted_python_df[['ConvertedCompYearly', 'EdLevel']].head()\n",
    "print(subset_df)"
   ]
  }
 ],
 "metadata": {
  "kernelspec": {
   "display_name": "Python 3 (ipykernel)",
   "language": "python",
   "name": "python3"
  },
  "language_info": {
   "codemirror_mode": {
    "name": "ipython",
    "version": 3
   },
   "file_extension": ".py",
   "mimetype": "text/x-python",
   "name": "python",
   "nbconvert_exporter": "python",
   "pygments_lexer": "ipython3",
   "version": "3.10.9"
  }
 },
 "nbformat": 4,
 "nbformat_minor": 5
}
