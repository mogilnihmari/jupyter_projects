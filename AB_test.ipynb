{
 "cells": [
  {
   "cell_type": "code",
   "execution_count": 1,
   "id": "bc8f9126",
   "metadata": {},
   "outputs": [],
   "source": [
    "import seaborn as sns\n",
    "import pandas as pd\n",
    "import numpy as num\n",
    "import matplotlib.pyplot as plt\n",
    "from scipy import stats"
   ]
  },
  {
   "cell_type": "code",
   "execution_count": 2,
   "id": "2cbdf2dc",
   "metadata": {},
   "outputs": [
    {
     "name": "stdout",
     "output_type": "stream",
     "text": [
      "                                user_id                   timestamp  \\\n",
      "0  7f6833e6-1141-4f20-b4b2-f1e31019b1fd  2023-07-04 04:40:55.848109   \n",
      "1  e6a6e960-d3f3-4074-a516-ba1e609b211e  2023-07-06 00:26:45.486187   \n",
      "2  4d3fbfa5-6847-410a-bac2-477f01d5f400  2023-07-10 20:24:33.639464   \n",
      "3  361457d9-a044-48f7-981c-d67dc3861679  2023-07-20 07:04:49.957013   \n",
      "4  285cd63d-7d03-427f-a062-1fa2dd2e77d6  2023-07-19 23:27:50.116680   \n",
      "\n",
      "  test_group  conversion  \n",
      "0          a           0  \n",
      "1          b           0  \n",
      "2          b           0  \n",
      "3          b           0  \n",
      "4          b           0  \n"
     ]
    }
   ],
   "source": [
    "test_df=pd.read_csv('D:\\Courses\\курсы\\GoIT_DA\\Блок 5\\HW3/ab_test_data.csv')\n",
    "print(test_df.head())"
   ]
  },
  {
   "cell_type": "code",
   "execution_count": 3,
   "id": "4e220680",
   "metadata": {},
   "outputs": [
    {
     "data": {
      "text/html": [
       "<div>\n",
       "<style scoped>\n",
       "    .dataframe tbody tr th:only-of-type {\n",
       "        vertical-align: middle;\n",
       "    }\n",
       "\n",
       "    .dataframe tbody tr th {\n",
       "        vertical-align: top;\n",
       "    }\n",
       "\n",
       "    .dataframe thead tr th {\n",
       "        text-align: left;\n",
       "    }\n",
       "\n",
       "    .dataframe thead tr:last-of-type th {\n",
       "        text-align: right;\n",
       "    }\n",
       "</style>\n",
       "<table border=\"1\" class=\"dataframe\">\n",
       "  <thead>\n",
       "    <tr>\n",
       "      <th></th>\n",
       "      <th colspan=\"8\" halign=\"left\">conversion</th>\n",
       "    </tr>\n",
       "    <tr>\n",
       "      <th></th>\n",
       "      <th>count</th>\n",
       "      <th>mean</th>\n",
       "      <th>std</th>\n",
       "      <th>min</th>\n",
       "      <th>25%</th>\n",
       "      <th>50%</th>\n",
       "      <th>75%</th>\n",
       "      <th>max</th>\n",
       "    </tr>\n",
       "    <tr>\n",
       "      <th>test_group</th>\n",
       "      <th></th>\n",
       "      <th></th>\n",
       "      <th></th>\n",
       "      <th></th>\n",
       "      <th></th>\n",
       "      <th></th>\n",
       "      <th></th>\n",
       "      <th></th>\n",
       "    </tr>\n",
       "  </thead>\n",
       "  <tbody>\n",
       "    <tr>\n",
       "      <th>a</th>\n",
       "      <td>10013.0</td>\n",
       "      <td>0.061021</td>\n",
       "      <td>0.239380</td>\n",
       "      <td>0.0</td>\n",
       "      <td>0.0</td>\n",
       "      <td>0.0</td>\n",
       "      <td>0.0</td>\n",
       "      <td>1.0</td>\n",
       "    </tr>\n",
       "    <tr>\n",
       "      <th>b</th>\n",
       "      <td>9985.0</td>\n",
       "      <td>0.089034</td>\n",
       "      <td>0.284806</td>\n",
       "      <td>0.0</td>\n",
       "      <td>0.0</td>\n",
       "      <td>0.0</td>\n",
       "      <td>0.0</td>\n",
       "      <td>1.0</td>\n",
       "    </tr>\n",
       "  </tbody>\n",
       "</table>\n",
       "</div>"
      ],
      "text/plain": [
       "           conversion                                             \n",
       "                count      mean       std  min  25%  50%  75%  max\n",
       "test_group                                                        \n",
       "a             10013.0  0.061021  0.239380  0.0  0.0  0.0  0.0  1.0\n",
       "b              9985.0  0.089034  0.284806  0.0  0.0  0.0  0.0  1.0"
      ]
     },
     "execution_count": 3,
     "metadata": {},
     "output_type": "execute_result"
    }
   ],
   "source": [
    "test_df.groupby('test_group').describe()"
   ]
  },
  {
   "cell_type": "code",
   "execution_count": 9,
   "id": "1f7aa76a",
   "metadata": {},
   "outputs": [
    {
     "name": "stdout",
     "output_type": "stream",
     "text": [
      "Кількість користувачів в групі A: 10013\n",
      "Кількість користувачів в групі B: 9985\n",
      "Кількість конверсій в групі A: 611\n",
      "Кількість конверсій в групі B: 889\n",
      "Рівень конверсії в групі A: 0.06102067312493758\n",
      "Рівень конверсії в групі B: 0.08903355032548824\n",
      "Дата початку тесту: 2023-07-03 01:42:34.033708\n",
      "Дата кінця тесту: 2023-07-25 01:41:19.152664\n",
      "Тривалість тесту в днях: 22\n"
     ]
    }
   ],
   "source": [
    "users_in_group_A = len(test_df[test_df['test_group'] == 'a'])\n",
    "users_in_group_B = len(test_df[test_df['test_group'] == 'b'])\n",
    "\n",
    "conversions_in_group_A = test_df[test_df['test_group'] == 'a']['conversion'].sum()\n",
    "conversions_in_group_B = test_df[test_df['test_group'] == 'b']['conversion'].sum()\n",
    "\n",
    "conversion_rate_A = conversions_in_group_A / users_in_group_A if users_in_group_A > 0 else 0\n",
    "conversion_rate_B = conversions_in_group_B / users_in_group_B if users_in_group_B > 0 else 0\n",
    "\n",
    "test_df['timestamp'] = pd.to_datetime(test_df['timestamp'])\n",
    "start_date = test_df['timestamp'].min()\n",
    "end_date = test_df['timestamp'].max()\n",
    "test_duration = (end_date - start_date).days + 1 \n",
    "\n",
    "\n",
    "print(f\"Кількість користувачів в групі A: {users_in_group_A}\")\n",
    "print(f\"Кількість користувачів в групі B: {users_in_group_B}\")\n",
    "print(f\"Кількість конверсій в групі A: {conversions_in_group_A}\")\n",
    "print(f\"Кількість конверсій в групі B: {conversions_in_group_B}\")\n",
    "print(f\"Рівень конверсії в групі A: {conversion_rate_A}\")\n",
    "print(f\"Рівень конверсії в групі B: {conversion_rate_B}\")\n",
    "print(f\"Дата початку тесту: {start_date}\")\n",
    "print(f\"Дата кінця тесту: {end_date}\")\n",
    "print(f\"Тривалість тесту в днях: {test_duration}\")"
   ]
  },
  {
   "cell_type": "code",
   "execution_count": 14,
   "id": "755121f2",
   "metadata": {},
   "outputs": [
    {
     "name": "stdout",
     "output_type": "stream",
     "text": [
      "T-статистика: -7.5299531387344185\n",
      "p-значення: 2.6455288192589382e-14\n",
      "Є статистично значуща різниця між тестовою і контрольною групами.\n"
     ]
    }
   ],
   "source": [
    "statistic, pvalue = stats.ttest_ind(test_df[test_df['test_group'] == 'a']['conversion'],\n",
    "                                    test_df[test_df['test_group'] == 'b']['conversion'], \n",
    "                                    alternative='less')\n",
    "\n",
    "print(f'T-статистика: {statistic}')\n",
    "print(f'p-значення: {pvalue}')\n",
    "\n",
    "if pvalue < 0.05:\n",
    "    print('Є статистично значуща різниця між тестовою і контрольною групами.')\n",
    "else:\n",
    "    print('Статистично значущої різниці між тестовою і контрольною групами не виявлено.')"
   ]
  },
  {
   "cell_type": "code",
   "execution_count": 18,
   "id": "61e4717c",
   "metadata": {},
   "outputs": [
    {
     "data": {
      "image/png": "[encoded data removed]",
      "text/plain": [
       "<Figure size 800x600 with 1 Axes>"
      ]
     },
     "metadata": {},
     "output_type": "display_data"
    }
   ],
   "source": [
    "plt.figure(figsize=(8, 6))\n",
    "sns.barplot(x=test_df['test_group'], \n",
    "            y=test_df['conversion'], \n",
    "            errorbar=('ci', 95)) # Confidence Intervals\n",
    "\n",
    "plt.title('A/B Test Results')\n",
    "plt.xlabel('Group')\n",
    "plt.ylabel('Mean')\n",
    "\n",
    "plt.show()\n"
   ]
  },
  {
   "cell_type": "markdown",
   "id": "c3930e69",
   "metadata": {},
   "source": [
    "Для даного А/В тесту значення t-статистики = -7.5299531387344185, p-value = 2.6455288192589382e-14. Значення p-value є меншим ніж 0,05, що свідчить про значущість отриманих результатів. Отже нульову гіпотезу можна відкинути і запроваджувати зміни в продукт"
   ]
  },
  {
   "cell_type": "code",
   "execution_count": null,
   "id": "8e7834de",
   "metadata": {},
   "outputs": [],
   "source": []
  },
  {
   "cell_type": "code",
   "execution_count": null,
   "id": "339e4463",
   "metadata": {},
   "outputs": [],
   "source": []
  },
  {
   "cell_type": "code",
   "execution_count": null,
   "id": "9d89f02d",
   "metadata": {},
   "outputs": [],
   "source": []
  },
  {
   "cell_type": "code",
   "execution_count": null,
   "id": "2e4662ee",
   "metadata": {},
   "outputs": [],
   "source": []
  }
 ],
 "metadata": {
  "kernelspec": {
   "display_name": "Python 3 (ipykernel)",
   "language": "python",
   "name": "python3"
  },
  "language_info": {
   "codemirror_mode": {
    "name": "ipython",
    "version": 3
   },
   "file_extension": ".py",
   "mimetype": "text/x-python",
   "name": "python",
   "nbconvert_exporter": "python",
   "pygments_lexer": "ipython3",
   "version": "3.10.9"
  }
 },
 "nbformat": 4,
 "nbformat_minor": 5
}
